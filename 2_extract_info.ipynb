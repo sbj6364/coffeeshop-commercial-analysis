{
  "nbformat": 4,
  "nbformat_minor": 0,
  "metadata": {
    "colab": {
      "name": "2_extract_info.ipynb",
      "provenance": [],
      "toc_visible": true,
      "mount_file_id": "1WlNS74vtrKUbB3i9e_2kWEQJJ_-A5M7W",
      "authorship_tag": "ABX9TyNEuuFrXyW1f1KjdkL1nqDP",
      "include_colab_link": true
    },
    "kernelspec": {
      "name": "python3",
      "display_name": "Python 3"
    },
    "language_info": {
      "name": "python"
    }
  },
  "cells": [
    {
      "cell_type": "markdown",
      "metadata": {
        "id": "view-in-github",
        "colab_type": "text"
      },
      "source": [
        "<a href=\"https://colab.research.google.com/github/sbj6364/coffeeshop-commercial-analysis/blob/main/2_extract_info.ipynb\" target=\"_parent\"><img src=\"https://colab.research.google.com/assets/colab-badge.svg\" alt=\"Open In Colab\"/></a>"
      ]
    },
    {
      "cell_type": "markdown",
      "metadata": {
        "id": "AkeUs1PpOS6x"
      },
      "source": [
        "## 2번 : 원하는 정보 추출하기 (1)\n",
        "\n",
        "이제부터 이 데이터에서 주요 커피 프랜차이즈에 대한 정보를 조사해보고자 합니다.\n",
        "\n",
        "여러 항목이 섞여있는 데이터 속에서 커피전문점 관련 정보만을 찾아내는 일을 해야합니다.\n",
        "\n",
        "불러온 데이터에서 커피전문점과 관련된 row들을 찾아서 새로운 DataFrame인 `df_cafes`으로 정리하는 코드를 작성하세요."
      ]
    },
    {
      "cell_type": "code",
      "metadata": {
        "id": "N9A9JYXNOJO0"
      },
      "source": [
        "import pandas as pd\n",
        "import numpy as np"
      ],
      "execution_count": 1,
      "outputs": []
    },
    {
      "cell_type": "code",
      "metadata": {
        "colab": {
          "base_uri": "https://localhost:8080/"
        },
        "id": "1clvRpu0PiQK",
        "outputId": "43ac707e-07c2-4688-d9ce-1ae5ccbcf4c8"
      },
      "source": [
        "d2 = pd.read_csv('/content/소상공인시장진흥공단_상가(상권)정보_강원_202012.csv', sep='|')\n",
        "d3 = pd.read_csv('/content/소상공인시장진흥공단_상가(상권)정보_경기_202012.csv', sep='|')\n",
        "d4 = pd.read_csv('/content/소상공인시장진흥공단_상가(상권)정보_경남_202012.csv', sep='|')\n",
        "d5 = pd.read_csv('/content/소상공인시장진흥공단_상가(상권)정보_경북_202012.csv', sep='|')\n",
        "d6 = pd.read_csv('/content/소상공인시장진흥공단_상가(상권)정보_광주_202012.csv', sep='|')\n",
        "d7 = pd.read_csv('/content/소상공인시장진흥공단_상가(상권)정보_대구_202012.csv', sep='|')\n",
        "d8 = pd.read_csv('/content/소상공인시장진흥공단_상가(상권)정보_대전_202012.csv', sep='|')\n",
        "d9 = pd.read_csv('/content/소상공인시장진흥공단_상가(상권)정보_부산_202012.csv', sep='|')\n",
        "d10 = pd.read_csv('/content/소상공인시장진흥공단_상가(상권)정보_서울_202012.csv', sep='|')\n",
        "d11 = pd.read_csv('/content/소상공인시장진흥공단_상가(상권)정보_세종_202012.csv', sep='|')\n",
        "d12 = pd.read_csv('/content/소상공인시장진흥공단_상가(상권)정보_울산_202012.csv', sep='|')\n",
        "d13 = pd.read_csv('/content/소상공인시장진흥공단_상가(상권)정보_인천_202012.csv', sep='|')\n",
        "d14 = pd.read_csv('/content/소상공인시장진흥공단_상가(상권)정보_전남_202012.csv', sep='|')\n",
        "d15 = pd.read_csv('/content/소상공인시장진흥공단_상가(상권)정보_전북_202012.csv', sep='|')\n",
        "d16 = pd.read_csv('/content/소상공인시장진흥공단_상가(상권)정보_제주_202012.csv', sep='|')\n",
        "d17 = pd.read_csv('/content/소상공인시장진흥공단_상가(상권)정보_충남_202012.csv', sep='|')\n",
        "d18 = pd.read_csv('/content/소상공인시장진흥공단_상가(상권)정보_충북_202012.csv', sep='|')"
      ],
      "execution_count": 20,
      "outputs": [
        {
          "output_type": "stream",
          "text": [
            "/usr/local/lib/python3.7/dist-packages/IPython/core/interactiveshell.py:2718: DtypeWarning: Columns (35) have mixed types.Specify dtype option on import or set low_memory=False.\n",
            "  interactivity=interactivity, compiler=compiler, result=result)\n"
          ],
          "name": "stderr"
        }
      ]
    },
    {
      "cell_type": "code",
      "metadata": {
        "id": "wlCSalcsWOmR"
      },
      "source": [
        "df = pd.DataFrame(d2)\n",
        "df = df.append(pd.DataFrame(d3))\n",
        "df = df.append(pd.DataFrame(d4))\n",
        "df = df.append(pd.DataFrame(d5))\n",
        "df = df.append(pd.DataFrame(d6))\n",
        "df = df.append(pd.DataFrame(d7))\n",
        "df = df.append(pd.DataFrame(d8))\n",
        "df = df.append(pd.DataFrame(d9))\n",
        "df = df.append(pd.DataFrame(d10))\n",
        "df = df.append(pd.DataFrame(d11))\n",
        "df = df.append(pd.DataFrame(d12))\n",
        "df = df.append(pd.DataFrame(d13))\n",
        "df = df.append(pd.DataFrame(d14))\n",
        "df = df.append(pd.DataFrame(d15))\n",
        "df = df.append(pd.DataFrame(d16))\n",
        "df = df.append(pd.DataFrame(d17))\n",
        "df = df.append(pd.DataFrame(d18))\n",
        "df"
      ],
      "execution_count": null,
      "outputs": []
    },
    {
      "cell_type": "code",
      "metadata": {
        "colab": {
          "base_uri": "https://localhost:8080/",
          "height": 302
        },
        "id": "FzAKgK99n3-G",
        "outputId": "ea7accfc-95cd-44d9-b363-5d1947fa1777"
      },
      "source": [
        "is_cafe = df['상권업종중분류명'] == '커피점/카페'\n",
        "df_cafes = df[is_cafe]\n",
        "df_cafes = df_cafes[['상호명','지점명',\n",
        "       '상권업종대분류명', '상권업종중분류명',\n",
        "       '시도명', '시군구명', '행정동명',\n",
        "       '위도', '경도']]\n",
        "       \n",
        "df_cafes = df_cafes.reset_index(drop=True)\n",
        "df_cafes.head()"
      ],
      "execution_count": 58,
      "outputs": [
        {
          "output_type": "execute_result",
          "data": {
            "text/html": [
              "<div>\n",
              "<style scoped>\n",
              "    .dataframe tbody tr th:only-of-type {\n",
              "        vertical-align: middle;\n",
              "    }\n",
              "\n",
              "    .dataframe tbody tr th {\n",
              "        vertical-align: top;\n",
              "    }\n",
              "\n",
              "    .dataframe thead th {\n",
              "        text-align: right;\n",
              "    }\n",
              "</style>\n",
              "<table border=\"1\" class=\"dataframe\">\n",
              "  <thead>\n",
              "    <tr style=\"text-align: right;\">\n",
              "      <th></th>\n",
              "      <th>상호명</th>\n",
              "      <th>지점명</th>\n",
              "      <th>상권업종대분류명</th>\n",
              "      <th>상권업종중분류명</th>\n",
              "      <th>시도명</th>\n",
              "      <th>시군구명</th>\n",
              "      <th>행정동명</th>\n",
              "      <th>위도</th>\n",
              "      <th>경도</th>\n",
              "    </tr>\n",
              "  </thead>\n",
              "  <tbody>\n",
              "    <tr>\n",
              "      <th>0</th>\n",
              "      <td>키즈까페아이사랑</td>\n",
              "      <td>NaN</td>\n",
              "      <td>음식</td>\n",
              "      <td>커피점/카페</td>\n",
              "      <td>강원도</td>\n",
              "      <td>강릉시</td>\n",
              "      <td>성덕동</td>\n",
              "      <td>37.759315</td>\n",
              "      <td>128.919456</td>\n",
              "    </tr>\n",
              "    <tr>\n",
              "      <th>1</th>\n",
              "      <td>카페마실</td>\n",
              "      <td>NaN</td>\n",
              "      <td>음식</td>\n",
              "      <td>커피점/카페</td>\n",
              "      <td>강원도</td>\n",
              "      <td>원주시</td>\n",
              "      <td>단계동</td>\n",
              "      <td>37.349772</td>\n",
              "      <td>127.930297</td>\n",
              "    </tr>\n",
              "    <tr>\n",
              "      <th>2</th>\n",
              "      <td>힐링</td>\n",
              "      <td>NaN</td>\n",
              "      <td>음식</td>\n",
              "      <td>커피점/카페</td>\n",
              "      <td>강원도</td>\n",
              "      <td>원주시</td>\n",
              "      <td>단구동</td>\n",
              "      <td>37.319958</td>\n",
              "      <td>127.958442</td>\n",
              "    </tr>\n",
              "    <tr>\n",
              "      <th>3</th>\n",
              "      <td>드롭탑</td>\n",
              "      <td>속초엑스포점</td>\n",
              "      <td>음식</td>\n",
              "      <td>커피점/카페</td>\n",
              "      <td>강원도</td>\n",
              "      <td>속초시</td>\n",
              "      <td>조양동</td>\n",
              "      <td>38.191024</td>\n",
              "      <td>128.586322</td>\n",
              "    </tr>\n",
              "    <tr>\n",
              "      <th>4</th>\n",
              "      <td>SHIMS</td>\n",
              "      <td>NaN</td>\n",
              "      <td>음식</td>\n",
              "      <td>커피점/카페</td>\n",
              "      <td>강원도</td>\n",
              "      <td>원주시</td>\n",
              "      <td>행구동</td>\n",
              "      <td>37.344340</td>\n",
              "      <td>128.008146</td>\n",
              "    </tr>\n",
              "  </tbody>\n",
              "</table>\n",
              "</div>"
            ],
            "text/plain": [
              "        상호명     지점명 상권업종대분류명 상권업종중분류명  시도명 시군구명 행정동명         위도          경도\n",
              "0  키즈까페아이사랑     NaN       음식   커피점/카페  강원도  강릉시  성덕동  37.759315  128.919456\n",
              "1      카페마실     NaN       음식   커피점/카페  강원도  원주시  단계동  37.349772  127.930297\n",
              "2        힐링     NaN       음식   커피점/카페  강원도  원주시  단구동  37.319958  127.958442\n",
              "3       드롭탑  속초엑스포점       음식   커피점/카페  강원도  속초시  조양동  38.191024  128.586322\n",
              "4     SHIMS     NaN       음식   커피점/카페  강원도  원주시  행구동  37.344340  128.008146"
            ]
          },
          "metadata": {
            "tags": []
          },
          "execution_count": 58
        }
      ]
    }
  ]
}