{
  "nbformat": 4,
  "nbformat_minor": 0,
  "metadata": {
    "colab": {
      "name": "4_extract_info3.ipynb",
      "provenance": [],
      "toc_visible": true,
      "mount_file_id": "1WlNS74vtrKUbB3i9e_2kWEQJJ_-A5M7W",
      "authorship_tag": "ABX9TyNT1eN/eS5xfwrnrcbumEAe",
      "include_colab_link": true
    },
    "kernelspec": {
      "name": "python3",
      "display_name": "Python 3"
    },
    "language_info": {
      "name": "python"
    }
  },
  "cells": [
    {
      "cell_type": "markdown",
      "metadata": {
        "id": "view-in-github",
        "colab_type": "text"
      },
      "source": [
        "<a href=\"https://colab.research.google.com/github/sbj6364/coffeeshop-commercial-analysis/blob/main/4_extract_info3.ipynb\" target=\"_parent\"><img src=\"https://colab.research.google.com/assets/colab-badge.svg\" alt=\"Open In Colab\"/></a>"
      ]
    },
    {
      "cell_type": "markdown",
      "metadata": {
        "id": "AkeUs1PpOS6x"
      },
      "source": [
        "## 4번 : 원하는 정보 추출하기 (3)\n",
        "\n",
        "우리는 이제 전국에 있는 소상공인 상호중에 커피점/카페에 해당하는 데이터에서 서울 지역에 해당하는 데이터도 얻었습니다. 이 데이터에서 특정 상호명을 갖는 데이터를 추출하고 싶습니다.\n",
        "\n",
        "스타벅스 매장에 해당하는 모든 데이터를 추출하여 전국 매장에 해당하는 DataFrame인 `df_starbucks`, 서울 매장에 해당하는 DataFrame인 `df_starbucks_seoul`를 만들어서 출력하는 코드를 작성하세요."
      ]
    },
    {
      "cell_type": "code",
      "metadata": {
        "id": "N9A9JYXNOJO0"
      },
      "source": [
        "import pandas as pd\n",
        "import numpy as np"
      ],
      "execution_count": 26,
      "outputs": []
    },
    {
      "cell_type": "code",
      "metadata": {
        "id": "_mbg0GPoGcYD"
      },
      "source": [
        "!unzip '/content/drive/MyDrive/coffeeshop-analysis/소상공인시장진흥공단_상가(상권)정보_20201231.zip'"
      ],
      "execution_count": null,
      "outputs": []
    },
    {
      "cell_type": "code",
      "metadata": {
        "colab": {
          "base_uri": "https://localhost:8080/"
        },
        "id": "1clvRpu0PiQK",
        "outputId": "f4ab4efe-439e-4151-fd89-ccf8a295d25f"
      },
      "source": [
        "d1 = pd.read_csv('/content/소상공인시장진흥공단_상가(상권)정보_강원_202012.csv', sep='|')\n",
        "d2 = pd.read_csv('/content/소상공인시장진흥공단_상가(상권)정보_경기_202012.csv', sep='|')\n",
        "d3 = pd.read_csv('/content/소상공인시장진흥공단_상가(상권)정보_경남_202012.csv', sep='|')\n",
        "d4 = pd.read_csv('/content/소상공인시장진흥공단_상가(상권)정보_경북_202012.csv', sep='|')\n",
        "d5 = pd.read_csv('/content/소상공인시장진흥공단_상가(상권)정보_광주_202012.csv', sep='|')\n",
        "d6 = pd.read_csv('/content/소상공인시장진흥공단_상가(상권)정보_대구_202012.csv', sep='|')\n",
        "d7 = pd.read_csv('/content/소상공인시장진흥공단_상가(상권)정보_대전_202012.csv', sep='|')\n",
        "d8 = pd.read_csv('/content/소상공인시장진흥공단_상가(상권)정보_부산_202012.csv', sep='|')\n",
        "d9 = pd.read_csv('/content/소상공인시장진흥공단_상가(상권)정보_서울_202012.csv', sep='|')\n",
        "d10 = pd.read_csv('/content/소상공인시장진흥공단_상가(상권)정보_세종_202012.csv', sep='|')\n",
        "d11 = pd.read_csv('/content/소상공인시장진흥공단_상가(상권)정보_울산_202012.csv', sep='|')\n",
        "d12 = pd.read_csv('/content/소상공인시장진흥공단_상가(상권)정보_인천_202012.csv', sep='|')\n",
        "d13 = pd.read_csv('/content/소상공인시장진흥공단_상가(상권)정보_전남_202012.csv', sep='|')\n",
        "d14 = pd.read_csv('/content/소상공인시장진흥공단_상가(상권)정보_전북_202012.csv', sep='|')\n",
        "d15 = pd.read_csv('/content/소상공인시장진흥공단_상가(상권)정보_제주_202012.csv', sep='|')\n",
        "d16 = pd.read_csv('/content/소상공인시장진흥공단_상가(상권)정보_충남_202012.csv', sep='|')\n",
        "d17 = pd.read_csv('/content/소상공인시장진흥공단_상가(상권)정보_충북_202012.csv', sep='|')"
      ],
      "execution_count": 27,
      "outputs": [
        {
          "output_type": "stream",
          "text": [
            "/usr/local/lib/python3.7/dist-packages/IPython/core/interactiveshell.py:2718: DtypeWarning: Columns (35) have mixed types.Specify dtype option on import or set low_memory=False.\n",
            "  interactivity=interactivity, compiler=compiler, result=result)\n"
          ],
          "name": "stderr"
        }
      ]
    },
    {
      "cell_type": "code",
      "metadata": {
        "id": "ClnufDUdIwZ2"
      },
      "source": [
        "df = pd.DataFrame(d1)\n",
        "df = df.append(pd.DataFrame(d2))\n",
        "df = df.append(pd.DataFrame(d3))\n",
        "df = df.append(pd.DataFrame(d4))\n",
        "df = df.append(pd.DataFrame(d5))\n",
        "df = df.append(pd.DataFrame(d6))\n",
        "df = df.append(pd.DataFrame(d7))\n",
        "df = df.append(pd.DataFrame(d8))\n",
        "df = df.append(pd.DataFrame(d9))\n",
        "df = df.append(pd.DataFrame(d10))\n",
        "df = df.append(pd.DataFrame(d11))\n",
        "df = df.append(pd.DataFrame(d12))\n",
        "df = df.append(pd.DataFrame(d13))\n",
        "df = df.append(pd.DataFrame(d14))\n",
        "df = df.append(pd.DataFrame(d15))\n",
        "df = df.append(pd.DataFrame(d16))\n",
        "df = df.append(pd.DataFrame(d17))"
      ],
      "execution_count": 28,
      "outputs": []
    },
    {
      "cell_type": "code",
      "metadata": {
        "colab": {
          "base_uri": "https://localhost:8080/",
          "height": 198
        },
        "id": "FzAKgK99n3-G",
        "outputId": "a8d82400-a78b-4f26-8237-7f12375bb712"
      },
      "source": [
        "is_cafe = df['상권업종중분류명'] == '커피점/카페'\n",
        "df_cafes = df[is_cafe]\n",
        "df_cafes = df_cafes[['상호명','지점명',\n",
        "       '상권업종대분류명', '상권업종중분류명',\n",
        "       '시도명', '시군구명', '행정동명',\n",
        "       '위도', '경도']]\n",
        "       \n",
        "df_cafes = df_cafes.reset_index(drop=True)\n",
        "df_cafes.head()"
      ],
      "execution_count": 29,
      "outputs": [
        {
          "output_type": "execute_result",
          "data": {
            "text/html": [
              "<div>\n",
              "<style scoped>\n",
              "    .dataframe tbody tr th:only-of-type {\n",
              "        vertical-align: middle;\n",
              "    }\n",
              "\n",
              "    .dataframe tbody tr th {\n",
              "        vertical-align: top;\n",
              "    }\n",
              "\n",
              "    .dataframe thead th {\n",
              "        text-align: right;\n",
              "    }\n",
              "</style>\n",
              "<table border=\"1\" class=\"dataframe\">\n",
              "  <thead>\n",
              "    <tr style=\"text-align: right;\">\n",
              "      <th></th>\n",
              "      <th>상호명</th>\n",
              "      <th>지점명</th>\n",
              "      <th>상권업종대분류명</th>\n",
              "      <th>상권업종중분류명</th>\n",
              "      <th>시도명</th>\n",
              "      <th>시군구명</th>\n",
              "      <th>행정동명</th>\n",
              "      <th>위도</th>\n",
              "      <th>경도</th>\n",
              "    </tr>\n",
              "  </thead>\n",
              "  <tbody>\n",
              "    <tr>\n",
              "      <th>0</th>\n",
              "      <td>키즈까페아이사랑</td>\n",
              "      <td>NaN</td>\n",
              "      <td>음식</td>\n",
              "      <td>커피점/카페</td>\n",
              "      <td>강원도</td>\n",
              "      <td>강릉시</td>\n",
              "      <td>성덕동</td>\n",
              "      <td>37.759315</td>\n",
              "      <td>128.919456</td>\n",
              "    </tr>\n",
              "    <tr>\n",
              "      <th>1</th>\n",
              "      <td>카페마실</td>\n",
              "      <td>NaN</td>\n",
              "      <td>음식</td>\n",
              "      <td>커피점/카페</td>\n",
              "      <td>강원도</td>\n",
              "      <td>원주시</td>\n",
              "      <td>단계동</td>\n",
              "      <td>37.349772</td>\n",
              "      <td>127.930297</td>\n",
              "    </tr>\n",
              "    <tr>\n",
              "      <th>2</th>\n",
              "      <td>힐링</td>\n",
              "      <td>NaN</td>\n",
              "      <td>음식</td>\n",
              "      <td>커피점/카페</td>\n",
              "      <td>강원도</td>\n",
              "      <td>원주시</td>\n",
              "      <td>단구동</td>\n",
              "      <td>37.319958</td>\n",
              "      <td>127.958442</td>\n",
              "    </tr>\n",
              "    <tr>\n",
              "      <th>3</th>\n",
              "      <td>드롭탑</td>\n",
              "      <td>속초엑스포점</td>\n",
              "      <td>음식</td>\n",
              "      <td>커피점/카페</td>\n",
              "      <td>강원도</td>\n",
              "      <td>속초시</td>\n",
              "      <td>조양동</td>\n",
              "      <td>38.191024</td>\n",
              "      <td>128.586322</td>\n",
              "    </tr>\n",
              "    <tr>\n",
              "      <th>4</th>\n",
              "      <td>SHIMS</td>\n",
              "      <td>NaN</td>\n",
              "      <td>음식</td>\n",
              "      <td>커피점/카페</td>\n",
              "      <td>강원도</td>\n",
              "      <td>원주시</td>\n",
              "      <td>행구동</td>\n",
              "      <td>37.344340</td>\n",
              "      <td>128.008146</td>\n",
              "    </tr>\n",
              "  </tbody>\n",
              "</table>\n",
              "</div>"
            ],
            "text/plain": [
              "        상호명     지점명 상권업종대분류명 상권업종중분류명  시도명 시군구명 행정동명         위도          경도\n",
              "0  키즈까페아이사랑     NaN       음식   커피점/카페  강원도  강릉시  성덕동  37.759315  128.919456\n",
              "1      카페마실     NaN       음식   커피점/카페  강원도  원주시  단계동  37.349772  127.930297\n",
              "2        힐링     NaN       음식   커피점/카페  강원도  원주시  단구동  37.319958  127.958442\n",
              "3       드롭탑  속초엑스포점       음식   커피점/카페  강원도  속초시  조양동  38.191024  128.586322\n",
              "4     SHIMS     NaN       음식   커피점/카페  강원도  원주시  행구동  37.344340  128.008146"
            ]
          },
          "metadata": {
            "tags": []
          },
          "execution_count": 29
        }
      ]
    },
    {
      "cell_type": "code",
      "metadata": {
        "colab": {
          "base_uri": "https://localhost:8080/",
          "height": 302
        },
        "id": "Y8EO7BsXFW3j",
        "outputId": "c2ff5cef-d331-4b5e-a9b7-a768c9070146"
      },
      "source": [
        "is_in_seoul = df_cafes['시도명'] == '서울특별시'\n",
        "df_cafes_seoul = df_cafes[is_in_seoul]\n",
        "# df_cafes_seoul = df_cafes_seoul.drop(['위도', '경도'], axis = 1)\n",
        "\n",
        "df_cafes_seoul = df_cafes_seoul.reset_index(drop=True)\n",
        "df_cafes_seoul.head()"
      ],
      "execution_count": 46,
      "outputs": [
        {
          "output_type": "execute_result",
          "data": {
            "text/html": [
              "<div>\n",
              "<style scoped>\n",
              "    .dataframe tbody tr th:only-of-type {\n",
              "        vertical-align: middle;\n",
              "    }\n",
              "\n",
              "    .dataframe tbody tr th {\n",
              "        vertical-align: top;\n",
              "    }\n",
              "\n",
              "    .dataframe thead th {\n",
              "        text-align: right;\n",
              "    }\n",
              "</style>\n",
              "<table border=\"1\" class=\"dataframe\">\n",
              "  <thead>\n",
              "    <tr style=\"text-align: right;\">\n",
              "      <th></th>\n",
              "      <th>상호명</th>\n",
              "      <th>지점명</th>\n",
              "      <th>상권업종대분류명</th>\n",
              "      <th>상권업종중분류명</th>\n",
              "      <th>시도명</th>\n",
              "      <th>시군구명</th>\n",
              "      <th>행정동명</th>\n",
              "      <th>위도</th>\n",
              "      <th>경도</th>\n",
              "    </tr>\n",
              "  </thead>\n",
              "  <tbody>\n",
              "    <tr>\n",
              "      <th>0</th>\n",
              "      <td>커피빈</td>\n",
              "      <td>코리아대학로대명거리점</td>\n",
              "      <td>음식</td>\n",
              "      <td>커피점/카페</td>\n",
              "      <td>서울특별시</td>\n",
              "      <td>종로구</td>\n",
              "      <td>혜화동</td>\n",
              "      <td>37.583149</td>\n",
              "      <td>127.000171</td>\n",
              "    </tr>\n",
              "    <tr>\n",
              "      <th>1</th>\n",
              "      <td>요거프레소</td>\n",
              "      <td>쌍문점</td>\n",
              "      <td>음식</td>\n",
              "      <td>커피점/카페</td>\n",
              "      <td>서울특별시</td>\n",
              "      <td>도봉구</td>\n",
              "      <td>쌍문2동</td>\n",
              "      <td>37.658728</td>\n",
              "      <td>127.034746</td>\n",
              "    </tr>\n",
              "    <tr>\n",
              "      <th>2</th>\n",
              "      <td>406번째스토브</td>\n",
              "      <td>NaN</td>\n",
              "      <td>음식</td>\n",
              "      <td>커피점/카페</td>\n",
              "      <td>서울특별시</td>\n",
              "      <td>양천구</td>\n",
              "      <td>목1동</td>\n",
              "      <td>37.525177</td>\n",
              "      <td>126.874168</td>\n",
              "    </tr>\n",
              "    <tr>\n",
              "      <th>3</th>\n",
              "      <td>로얄커피숍</td>\n",
              "      <td>NaN</td>\n",
              "      <td>음식</td>\n",
              "      <td>커피점/카페</td>\n",
              "      <td>서울특별시</td>\n",
              "      <td>강동구</td>\n",
              "      <td>성내2동</td>\n",
              "      <td>37.534901</td>\n",
              "      <td>127.124193</td>\n",
              "    </tr>\n",
              "    <tr>\n",
              "      <th>4</th>\n",
              "      <td>빈트리망원점</td>\n",
              "      <td>망원점</td>\n",
              "      <td>음식</td>\n",
              "      <td>커피점/카페</td>\n",
              "      <td>서울특별시</td>\n",
              "      <td>마포구</td>\n",
              "      <td>망원1동</td>\n",
              "      <td>37.556041</td>\n",
              "      <td>126.899339</td>\n",
              "    </tr>\n",
              "  </tbody>\n",
              "</table>\n",
              "</div>"
            ],
            "text/plain": [
              "        상호명          지점명 상권업종대분류명 상권업종중분류명  ... 시군구명  행정동명         위도          경도\n",
              "0       커피빈  코리아대학로대명거리점       음식   커피점/카페  ...  종로구   혜화동  37.583149  127.000171\n",
              "1     요거프레소          쌍문점       음식   커피점/카페  ...  도봉구  쌍문2동  37.658728  127.034746\n",
              "2  406번째스토브          NaN       음식   커피점/카페  ...  양천구   목1동  37.525177  126.874168\n",
              "3     로얄커피숍          NaN       음식   커피점/카페  ...  강동구  성내2동  37.534901  127.124193\n",
              "4    빈트리망원점          망원점       음식   커피점/카페  ...  마포구  망원1동  37.556041  126.899339\n",
              "\n",
              "[5 rows x 9 columns]"
            ]
          },
          "metadata": {
            "tags": []
          },
          "execution_count": 46
        }
      ]
    },
    {
      "cell_type": "code",
      "metadata": {
        "colab": {
          "base_uri": "https://localhost:8080/",
          "height": 302
        },
        "id": "C_CO0YJbvhWO",
        "outputId": "c090dbe0-ad39-4753-c632-4a58b1c63ac1"
      },
      "source": [
        "is_starbucks = df_cafes['상호명'].str.contains('스타벅스')\n",
        "df_starbucks = df_cafes[is_starbucks]\n",
        "\n",
        "df_starbucks = df_starbucks.reset_index(drop=True)\n",
        "df_starbucks.head()"
      ],
      "execution_count": 47,
      "outputs": [
        {
          "output_type": "execute_result",
          "data": {
            "text/html": [
              "<div>\n",
              "<style scoped>\n",
              "    .dataframe tbody tr th:only-of-type {\n",
              "        vertical-align: middle;\n",
              "    }\n",
              "\n",
              "    .dataframe tbody tr th {\n",
              "        vertical-align: top;\n",
              "    }\n",
              "\n",
              "    .dataframe thead th {\n",
              "        text-align: right;\n",
              "    }\n",
              "</style>\n",
              "<table border=\"1\" class=\"dataframe\">\n",
              "  <thead>\n",
              "    <tr style=\"text-align: right;\">\n",
              "      <th></th>\n",
              "      <th>상호명</th>\n",
              "      <th>지점명</th>\n",
              "      <th>상권업종대분류명</th>\n",
              "      <th>상권업종중분류명</th>\n",
              "      <th>시도명</th>\n",
              "      <th>시군구명</th>\n",
              "      <th>행정동명</th>\n",
              "      <th>위도</th>\n",
              "      <th>경도</th>\n",
              "    </tr>\n",
              "  </thead>\n",
              "  <tbody>\n",
              "    <tr>\n",
              "      <th>0</th>\n",
              "      <td>스타벅스</td>\n",
              "      <td>NaN</td>\n",
              "      <td>음식</td>\n",
              "      <td>커피점/카페</td>\n",
              "      <td>강원도</td>\n",
              "      <td>원주시</td>\n",
              "      <td>단계동</td>\n",
              "      <td>37.348466</td>\n",
              "      <td>127.931032</td>\n",
              "    </tr>\n",
              "    <tr>\n",
              "      <th>1</th>\n",
              "      <td>스타벅스강릉안목항점</td>\n",
              "      <td>강릉안목항점</td>\n",
              "      <td>음식</td>\n",
              "      <td>커피점/카페</td>\n",
              "      <td>강원도</td>\n",
              "      <td>강릉시</td>\n",
              "      <td>송정동</td>\n",
              "      <td>37.771400</td>\n",
              "      <td>128.948709</td>\n",
              "    </tr>\n",
              "    <tr>\n",
              "      <th>2</th>\n",
              "      <td>스타벅스</td>\n",
              "      <td>대명델피노리조트점</td>\n",
              "      <td>음식</td>\n",
              "      <td>커피점/카페</td>\n",
              "      <td>강원도</td>\n",
              "      <td>고성군</td>\n",
              "      <td>토성면</td>\n",
              "      <td>38.213128</td>\n",
              "      <td>128.493408</td>\n",
              "    </tr>\n",
              "    <tr>\n",
              "      <th>3</th>\n",
              "      <td>스타벅스춘천후평DT점</td>\n",
              "      <td>춘천후평DT점</td>\n",
              "      <td>음식</td>\n",
              "      <td>커피점/카페</td>\n",
              "      <td>강원도</td>\n",
              "      <td>춘천시</td>\n",
              "      <td>후평3동</td>\n",
              "      <td>37.879421</td>\n",
              "      <td>127.750622</td>\n",
              "    </tr>\n",
              "    <tr>\n",
              "      <th>4</th>\n",
              "      <td>스타벅스</td>\n",
              "      <td>춘천명동점</td>\n",
              "      <td>음식</td>\n",
              "      <td>커피점/카페</td>\n",
              "      <td>강원도</td>\n",
              "      <td>춘천시</td>\n",
              "      <td>약사명동</td>\n",
              "      <td>37.880037</td>\n",
              "      <td>127.727566</td>\n",
              "    </tr>\n",
              "  </tbody>\n",
              "</table>\n",
              "</div>"
            ],
            "text/plain": [
              "           상호명        지점명 상권업종대분류명 상권업종중분류명  ... 시군구명  행정동명         위도          경도\n",
              "0         스타벅스        NaN       음식   커피점/카페  ...  원주시   단계동  37.348466  127.931032\n",
              "1   스타벅스강릉안목항점     강릉안목항점       음식   커피점/카페  ...  강릉시   송정동  37.771400  128.948709\n",
              "2         스타벅스  대명델피노리조트점       음식   커피점/카페  ...  고성군   토성면  38.213128  128.493408\n",
              "3  스타벅스춘천후평DT점    춘천후평DT점       음식   커피점/카페  ...  춘천시  후평3동  37.879421  127.750622\n",
              "4         스타벅스      춘천명동점       음식   커피점/카페  ...  춘천시  약사명동  37.880037  127.727566\n",
              "\n",
              "[5 rows x 9 columns]"
            ]
          },
          "metadata": {
            "tags": []
          },
          "execution_count": 47
        }
      ]
    },
    {
      "cell_type": "code",
      "metadata": {
        "colab": {
          "base_uri": "https://localhost:8080/",
          "height": 302
        },
        "id": "LKZOeFZWx5XS",
        "outputId": "58308431-c5b5-4339-d48a-a46b0203a05c"
      },
      "source": [
        "is_starbucks_seoul = df_cafes_seoul['상호명'].str.contains('스타벅스')\n",
        "df_starbucks_seoul = df_cafes_seoul[is_starbucks_seoul]\n",
        "\n",
        "df_starbucks_seoul = df_starbucks_seoul.reset_index(drop=True)\n",
        "df_starbucks_seoul.head()"
      ],
      "execution_count": 48,
      "outputs": [
        {
          "output_type": "execute_result",
          "data": {
            "text/html": [
              "<div>\n",
              "<style scoped>\n",
              "    .dataframe tbody tr th:only-of-type {\n",
              "        vertical-align: middle;\n",
              "    }\n",
              "\n",
              "    .dataframe tbody tr th {\n",
              "        vertical-align: top;\n",
              "    }\n",
              "\n",
              "    .dataframe thead th {\n",
              "        text-align: right;\n",
              "    }\n",
              "</style>\n",
              "<table border=\"1\" class=\"dataframe\">\n",
              "  <thead>\n",
              "    <tr style=\"text-align: right;\">\n",
              "      <th></th>\n",
              "      <th>상호명</th>\n",
              "      <th>지점명</th>\n",
              "      <th>상권업종대분류명</th>\n",
              "      <th>상권업종중분류명</th>\n",
              "      <th>시도명</th>\n",
              "      <th>시군구명</th>\n",
              "      <th>행정동명</th>\n",
              "      <th>위도</th>\n",
              "      <th>경도</th>\n",
              "    </tr>\n",
              "  </thead>\n",
              "  <tbody>\n",
              "    <tr>\n",
              "      <th>0</th>\n",
              "      <td>스타벅스</td>\n",
              "      <td>대학로점</td>\n",
              "      <td>음식</td>\n",
              "      <td>커피점/카페</td>\n",
              "      <td>서울특별시</td>\n",
              "      <td>종로구</td>\n",
              "      <td>이화동</td>\n",
              "      <td>37.582185</td>\n",
              "      <td>127.002233</td>\n",
              "    </tr>\n",
              "    <tr>\n",
              "      <th>1</th>\n",
              "      <td>스타벅스</td>\n",
              "      <td>한티점</td>\n",
              "      <td>음식</td>\n",
              "      <td>커피점/카페</td>\n",
              "      <td>서울특별시</td>\n",
              "      <td>강남구</td>\n",
              "      <td>대치4동</td>\n",
              "      <td>37.497946</td>\n",
              "      <td>127.053715</td>\n",
              "    </tr>\n",
              "    <tr>\n",
              "      <th>2</th>\n",
              "      <td>스타벅스</td>\n",
              "      <td>동숭로아트점</td>\n",
              "      <td>음식</td>\n",
              "      <td>커피점/카페</td>\n",
              "      <td>서울특별시</td>\n",
              "      <td>종로구</td>\n",
              "      <td>이화동</td>\n",
              "      <td>37.582964</td>\n",
              "      <td>127.003887</td>\n",
              "    </tr>\n",
              "    <tr>\n",
              "      <th>3</th>\n",
              "      <td>스타벅스남부터미널2점</td>\n",
              "      <td>남부터미널2점</td>\n",
              "      <td>음식</td>\n",
              "      <td>커피점/카페</td>\n",
              "      <td>서울특별시</td>\n",
              "      <td>서초구</td>\n",
              "      <td>서초3동</td>\n",
              "      <td>37.484386</td>\n",
              "      <td>127.014198</td>\n",
              "    </tr>\n",
              "    <tr>\n",
              "      <th>4</th>\n",
              "      <td>스타벅스</td>\n",
              "      <td>가로수길점</td>\n",
              "      <td>음식</td>\n",
              "      <td>커피점/카페</td>\n",
              "      <td>서울특별시</td>\n",
              "      <td>강남구</td>\n",
              "      <td>신사동</td>\n",
              "      <td>37.523184</td>\n",
              "      <td>127.021629</td>\n",
              "    </tr>\n",
              "  </tbody>\n",
              "</table>\n",
              "</div>"
            ],
            "text/plain": [
              "           상호명      지점명 상권업종대분류명 상권업종중분류명  ... 시군구명  행정동명         위도          경도\n",
              "0         스타벅스     대학로점       음식   커피점/카페  ...  종로구   이화동  37.582185  127.002233\n",
              "1         스타벅스      한티점       음식   커피점/카페  ...  강남구  대치4동  37.497946  127.053715\n",
              "2         스타벅스   동숭로아트점       음식   커피점/카페  ...  종로구   이화동  37.582964  127.003887\n",
              "3  스타벅스남부터미널2점  남부터미널2점       음식   커피점/카페  ...  서초구  서초3동  37.484386  127.014198\n",
              "4         스타벅스    가로수길점       음식   커피점/카페  ...  강남구   신사동  37.523184  127.021629\n",
              "\n",
              "[5 rows x 9 columns]"
            ]
          },
          "metadata": {
            "tags": []
          },
          "execution_count": 48
        }
      ]
    }
  ]
}