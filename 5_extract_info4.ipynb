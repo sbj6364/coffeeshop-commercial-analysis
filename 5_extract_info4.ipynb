{
  "nbformat": 4,
  "nbformat_minor": 0,
  "metadata": {
    "colab": {
      "name": "5_extract_info4.ipynb",
      "provenance": [],
      "toc_visible": true,
      "mount_file_id": "1WlNS74vtrKUbB3i9e_2kWEQJJ_-A5M7W",
      "authorship_tag": "ABX9TyMRusJLln12rlgPHOIa4Js/",
      "include_colab_link": true
    },
    "kernelspec": {
      "name": "python3",
      "display_name": "Python 3"
    },
    "language_info": {
      "name": "python"
    }
  },
  "cells": [
    {
      "cell_type": "markdown",
      "metadata": {
        "id": "view-in-github",
        "colab_type": "text"
      },
      "source": [
        "<a href=\"https://colab.research.google.com/github/sbj6364/coffeeshop-commercial-analysis/blob/main/5_extract_info4.ipynb\" target=\"_parent\"><img src=\"https://colab.research.google.com/assets/colab-badge.svg\" alt=\"Open In Colab\"/></a>"
      ]
    },
    {
      "cell_type": "markdown",
      "metadata": {
        "id": "AkeUs1PpOS6x"
      },
      "source": [
        "## 5번 : 원하는 정보 추출하기 (4)\n",
        "\n",
        "아래 그림은 커피전문점들의 브랜드평판에 대한 레포트에 있던 자료(2019년 12월 기준)입니다. 해당 레포트 기준으로는 1위부터 5위까지 각각 스타벅스, 투썸플레이스, 이디야, 빽다방, 커피빈 이렇게 5개의 브랜드가 차지하고 있습니다.\n",
        "\n",
        "1위부터 5위까지의 브랜드에 해당하는 매장 정보를 전국/서울 단위로 추출하여 각각 새로운 DataFrame에 저장하고 출력하는 코드를 작성하세요. (스타벅스에 대해서는 4번 문제에서 이미 다루었습니다.)\n",
        "\n",
        ">단, DataFrame의 이름은 베이스라인에 있는걸로 통일합니다."
      ]
    },
    {
      "cell_type": "code",
      "metadata": {
        "id": "N9A9JYXNOJO0"
      },
      "source": [
        "import pandas as pd\n",
        "import numpy as np"
      ],
      "execution_count": 26,
      "outputs": []
    },
    {
      "cell_type": "code",
      "metadata": {
        "id": "_mbg0GPoGcYD"
      },
      "source": [
        "!unzip '/content/drive/MyDrive/coffeeshop-analysis/소상공인시장진흥공단_상가(상권)정보_20201231.zip'"
      ],
      "execution_count": null,
      "outputs": []
    },
    {
      "cell_type": "code",
      "metadata": {
        "colab": {
          "base_uri": "https://localhost:8080/"
        },
        "id": "1clvRpu0PiQK",
        "outputId": "f4ab4efe-439e-4151-fd89-ccf8a295d25f"
      },
      "source": [
        "d1 = pd.read_csv('/content/소상공인시장진흥공단_상가(상권)정보_강원_202012.csv', sep='|')\n",
        "d2 = pd.read_csv('/content/소상공인시장진흥공단_상가(상권)정보_경기_202012.csv', sep='|')\n",
        "d3 = pd.read_csv('/content/소상공인시장진흥공단_상가(상권)정보_경남_202012.csv', sep='|')\n",
        "d4 = pd.read_csv('/content/소상공인시장진흥공단_상가(상권)정보_경북_202012.csv', sep='|')\n",
        "d5 = pd.read_csv('/content/소상공인시장진흥공단_상가(상권)정보_광주_202012.csv', sep='|')\n",
        "d6 = pd.read_csv('/content/소상공인시장진흥공단_상가(상권)정보_대구_202012.csv', sep='|')\n",
        "d7 = pd.read_csv('/content/소상공인시장진흥공단_상가(상권)정보_대전_202012.csv', sep='|')\n",
        "d8 = pd.read_csv('/content/소상공인시장진흥공단_상가(상권)정보_부산_202012.csv', sep='|')\n",
        "d9 = pd.read_csv('/content/소상공인시장진흥공단_상가(상권)정보_서울_202012.csv', sep='|')\n",
        "d10 = pd.read_csv('/content/소상공인시장진흥공단_상가(상권)정보_세종_202012.csv', sep='|')\n",
        "d11 = pd.read_csv('/content/소상공인시장진흥공단_상가(상권)정보_울산_202012.csv', sep='|')\n",
        "d12 = pd.read_csv('/content/소상공인시장진흥공단_상가(상권)정보_인천_202012.csv', sep='|')\n",
        "d13 = pd.read_csv('/content/소상공인시장진흥공단_상가(상권)정보_전남_202012.csv', sep='|')\n",
        "d14 = pd.read_csv('/content/소상공인시장진흥공단_상가(상권)정보_전북_202012.csv', sep='|')\n",
        "d15 = pd.read_csv('/content/소상공인시장진흥공단_상가(상권)정보_제주_202012.csv', sep='|')\n",
        "d16 = pd.read_csv('/content/소상공인시장진흥공단_상가(상권)정보_충남_202012.csv', sep='|')\n",
        "d17 = pd.read_csv('/content/소상공인시장진흥공단_상가(상권)정보_충북_202012.csv', sep='|')"
      ],
      "execution_count": 27,
      "outputs": [
        {
          "output_type": "stream",
          "text": [
            "/usr/local/lib/python3.7/dist-packages/IPython/core/interactiveshell.py:2718: DtypeWarning: Columns (35) have mixed types.Specify dtype option on import or set low_memory=False.\n",
            "  interactivity=interactivity, compiler=compiler, result=result)\n"
          ],
          "name": "stderr"
        }
      ]
    },
    {
      "cell_type": "code",
      "metadata": {
        "id": "ClnufDUdIwZ2"
      },
      "source": [
        "df = pd.DataFrame(d1)\n",
        "df = df.append(pd.DataFrame(d2))\n",
        "df = df.append(pd.DataFrame(d3))\n",
        "df = df.append(pd.DataFrame(d4))\n",
        "df = df.append(pd.DataFrame(d5))\n",
        "df = df.append(pd.DataFrame(d6))\n",
        "df = df.append(pd.DataFrame(d7))\n",
        "df = df.append(pd.DataFrame(d8))\n",
        "df = df.append(pd.DataFrame(d9))\n",
        "df = df.append(pd.DataFrame(d10))\n",
        "df = df.append(pd.DataFrame(d11))\n",
        "df = df.append(pd.DataFrame(d12))\n",
        "df = df.append(pd.DataFrame(d13))\n",
        "df = df.append(pd.DataFrame(d14))\n",
        "df = df.append(pd.DataFrame(d15))\n",
        "df = df.append(pd.DataFrame(d16))\n",
        "df = df.append(pd.DataFrame(d17))"
      ],
      "execution_count": 28,
      "outputs": []
    },
    {
      "cell_type": "code",
      "metadata": {
        "id": "FzAKgK99n3-G"
      },
      "source": [
        "is_cafe = df['상권업종중분류명'] == '커피점/카페'\n",
        "df_cafes = df[is_cafe]\n",
        "df_cafes = df_cafes[['상호명','지점명',\n",
        "       '상권업종대분류명', '상권업종중분류명',\n",
        "       '시도명', '시군구명', '행정동명',\n",
        "       '위도', '경도']]\n",
        "       \n",
        "df_cafes = df_cafes.reset_index(drop=True)\n",
        "df_cafes.head()"
      ],
      "execution_count": null,
      "outputs": []
    },
    {
      "cell_type": "code",
      "metadata": {
        "id": "Y8EO7BsXFW3j"
      },
      "source": [
        "is_in_seoul = df_cafes['시도명'] == '서울특별시'\n",
        "df_cafes_seoul = df_cafes[is_in_seoul]\n",
        "# df_cafes_seoul = df_cafes_seoul.drop(['위도', '경도'], axis = 1)\n",
        "\n",
        "df_cafes_seoul = df_cafes_seoul.reset_index(drop=True)\n",
        "df_cafes_seoul.head()"
      ],
      "execution_count": null,
      "outputs": []
    },
    {
      "cell_type": "code",
      "metadata": {
        "id": "C_CO0YJbvhWO"
      },
      "source": [
        "is_starbucks = df_cafes['상호명'].str.contains('스타벅스')\n",
        "is_starbucks_seoul = df_cafes_seoul['상호명'].str.contains('스타벅스')\n",
        "\n",
        "is_twosome = df_cafes['상호명'].str.contains('투썸')\n",
        "is_twosome_seoul = df_cafes_seoul['상호명'].str.contains('투썸')\n",
        "\n",
        "is_ediya = df_cafes['상호명'].str.contains('이디야')\n",
        "is_ediya_seoul = df_cafes_seoul['상호명'].str.contains('이디야')\n",
        "\n",
        "is_bbaek = df_cafes['상호명'].str.contains('뺵다방')\n",
        "is_bbaek_seoul = df_cafes_seoul['상호명'].str.contains('뺵다방')\n",
        "\n",
        "is_coffeebean = df_cafes['상호명'].str.contains('커피빈')\n",
        "is_coffeebean_seoul = df_cafes_seoul['상호명'].str.contains('커피빈')"
      ],
      "execution_count": 50,
      "outputs": []
    },
    {
      "cell_type": "code",
      "metadata": {
        "id": "LKZOeFZWx5XS"
      },
      "source": [
        "def reset_index(df):\n",
        "  df = df.reset_index(drop=True)\n",
        "  return df"
      ],
      "execution_count": 53,
      "outputs": []
    },
    {
      "cell_type": "code",
      "metadata": {
        "id": "NdQrEYwg4oLe"
      },
      "source": [
        "# 스타벅스\n",
        "df_starbucks = reset_index(df_cafes[is_starbucks])\n",
        "df_starbucks_seoul = df_cafes_seoul[is_starbucks_seoul]\n",
        "\n",
        "# 투썸플레이스\n",
        "df_twosome = reset_index(df_cafes[is_twosome])\n",
        "df_twosome_seoul = df_cafes_seoul[is_twosome_seoul]\n",
        "\n",
        "# 이디야\n",
        "df_ediya = reset_index(df_cafes[is_ediya])\n",
        "df_ediya_seoul = df_cafes_seoul[is_ediya_seoul]\n",
        "\n",
        "# 빽다방\n",
        "df_bbaek = reset_index(df_cafes[is_bbaek])\n",
        "df_bbaek_seoul = df_cafes_seoul[is_bbaek_seoul]\n",
        "\n",
        "# 커피빈\n",
        "df_coffeebean = reset_index(df_cafes[is_coffeebean])\n",
        "df_coffeebean_seoul = df_cafes_seoul[is_coffeebean_seoul]"
      ],
      "execution_count": 59,
      "outputs": []
    }
  ]
}