{
  "nbformat": 4,
  "nbformat_minor": 0,
  "metadata": {
    "colab": {
      "name": "7_calculating_seoul.ipynb",
      "provenance": [],
      "collapsed_sections": [],
      "toc_visible": true,
      "mount_file_id": "1WlNS74vtrKUbB3i9e_2kWEQJJ_-A5M7W",
      "authorship_tag": "ABX9TyM+UrjfiyAHfCnziK2gFJId",
      "include_colab_link": true
    },
    "kernelspec": {
      "name": "python3",
      "display_name": "Python 3"
    },
    "language_info": {
      "name": "python"
    }
  },
  "cells": [
    {
      "cell_type": "markdown",
      "metadata": {
        "id": "view-in-github",
        "colab_type": "text"
      },
      "source": [
        "<a href=\"https://colab.research.google.com/github/sbj6364/coffeeshop-commercial-analysis/blob/main/7_calculating_seoul.ipynb\" target=\"_parent\"><img src=\"https://colab.research.google.com/assets/colab-badge.svg\" alt=\"Open In Colab\"/></a>"
      ]
    },
    {
      "cell_type": "markdown",
      "metadata": {
        "id": "AkeUs1PpOS6x"
      },
      "source": [
        "## 7번 : 서울 입점 비율 계산하기\n",
        "\n",
        "전국을 보았으니, 이제 서울로 좁혀서 볼까요? 서울 내에서 각 카페들이 차지하는 점유율은 어떻게 다를까요?\n",
        "\n",
        "서울에 있는 커피 전문점 중 주요 5대 커피 브랜드 입점 비율을 계산하는 코드를 작성하세요.\n",
        "\n",
        "#### Output\n",
        "~~~\n",
        "***** 서울 카페 중 5대 브랜드 비율 *****\n",
        "\n",
        "1. 스타벅스 : ? %\n",
        "2. 투썸플레이스 : ? %\n",
        "3. 이디야 : ? %\n",
        "4. 빽다방 : ? %\n",
        "5. 커피빈 : ? %\n",
        "6. 5대 브랜드의 합 : ? %\n",
        "~~~"
      ]
    },
    {
      "cell_type": "code",
      "metadata": {
        "id": "N9A9JYXNOJO0"
      },
      "source": [
        "import pandas as pd\n",
        "import numpy as np"
      ],
      "execution_count": 26,
      "outputs": []
    },
    {
      "cell_type": "code",
      "metadata": {
        "id": "_mbg0GPoGcYD"
      },
      "source": [
        "!unzip '/content/drive/MyDrive/coffeeshop-analysis/소상공인시장진흥공단_상가(상권)정보_20201231.zip'"
      ],
      "execution_count": null,
      "outputs": []
    },
    {
      "cell_type": "code",
      "metadata": {
        "colab": {
          "base_uri": "https://localhost:8080/"
        },
        "id": "1clvRpu0PiQK",
        "outputId": "f4ab4efe-439e-4151-fd89-ccf8a295d25f"
      },
      "source": [
        "d1 = pd.read_csv('/content/소상공인시장진흥공단_상가(상권)정보_강원_202012.csv', sep='|')\n",
        "d2 = pd.read_csv('/content/소상공인시장진흥공단_상가(상권)정보_경기_202012.csv', sep='|')\n",
        "d3 = pd.read_csv('/content/소상공인시장진흥공단_상가(상권)정보_경남_202012.csv', sep='|')\n",
        "d4 = pd.read_csv('/content/소상공인시장진흥공단_상가(상권)정보_경북_202012.csv', sep='|')\n",
        "d5 = pd.read_csv('/content/소상공인시장진흥공단_상가(상권)정보_광주_202012.csv', sep='|')\n",
        "d6 = pd.read_csv('/content/소상공인시장진흥공단_상가(상권)정보_대구_202012.csv', sep='|')\n",
        "d7 = pd.read_csv('/content/소상공인시장진흥공단_상가(상권)정보_대전_202012.csv', sep='|')\n",
        "d8 = pd.read_csv('/content/소상공인시장진흥공단_상가(상권)정보_부산_202012.csv', sep='|')\n",
        "d9 = pd.read_csv('/content/소상공인시장진흥공단_상가(상권)정보_서울_202012.csv', sep='|')\n",
        "d10 = pd.read_csv('/content/소상공인시장진흥공단_상가(상권)정보_세종_202012.csv', sep='|')\n",
        "d11 = pd.read_csv('/content/소상공인시장진흥공단_상가(상권)정보_울산_202012.csv', sep='|')\n",
        "d12 = pd.read_csv('/content/소상공인시장진흥공단_상가(상권)정보_인천_202012.csv', sep='|')\n",
        "d13 = pd.read_csv('/content/소상공인시장진흥공단_상가(상권)정보_전남_202012.csv', sep='|')\n",
        "d14 = pd.read_csv('/content/소상공인시장진흥공단_상가(상권)정보_전북_202012.csv', sep='|')\n",
        "d15 = pd.read_csv('/content/소상공인시장진흥공단_상가(상권)정보_제주_202012.csv', sep='|')\n",
        "d16 = pd.read_csv('/content/소상공인시장진흥공단_상가(상권)정보_충남_202012.csv', sep='|')\n",
        "d17 = pd.read_csv('/content/소상공인시장진흥공단_상가(상권)정보_충북_202012.csv', sep='|')"
      ],
      "execution_count": 27,
      "outputs": [
        {
          "output_type": "stream",
          "text": [
            "/usr/local/lib/python3.7/dist-packages/IPython/core/interactiveshell.py:2718: DtypeWarning: Columns (35) have mixed types.Specify dtype option on import or set low_memory=False.\n",
            "  interactivity=interactivity, compiler=compiler, result=result)\n"
          ],
          "name": "stderr"
        }
      ]
    },
    {
      "cell_type": "code",
      "metadata": {
        "id": "ClnufDUdIwZ2"
      },
      "source": [
        "df = pd.DataFrame(d1)\n",
        "df = df.append(pd.DataFrame(d2))\n",
        "df = df.append(pd.DataFrame(d3))\n",
        "df = df.append(pd.DataFrame(d4))\n",
        "df = df.append(pd.DataFrame(d5))\n",
        "df = df.append(pd.DataFrame(d6))\n",
        "df = df.append(pd.DataFrame(d7))\n",
        "df = df.append(pd.DataFrame(d8))\n",
        "df = df.append(pd.DataFrame(d9))\n",
        "df = df.append(pd.DataFrame(d10))\n",
        "df = df.append(pd.DataFrame(d11))\n",
        "df = df.append(pd.DataFrame(d12))\n",
        "df = df.append(pd.DataFrame(d13))\n",
        "df = df.append(pd.DataFrame(d14))\n",
        "df = df.append(pd.DataFrame(d15))\n",
        "df = df.append(pd.DataFrame(d16))\n",
        "df = df.append(pd.DataFrame(d17))"
      ],
      "execution_count": 28,
      "outputs": []
    },
    {
      "cell_type": "code",
      "metadata": {
        "id": "FzAKgK99n3-G"
      },
      "source": [
        "is_cafe = df['상권업종중분류명'] == '커피점/카페'\n",
        "df_cafes = df[is_cafe]\n",
        "df_cafes = df_cafes[['상호명','지점명',\n",
        "       '상권업종대분류명', '상권업종중분류명',\n",
        "       '시도명', '시군구명', '행정동명',\n",
        "       '위도', '경도']]\n",
        "       \n",
        "df_cafes = df_cafes.reset_index(drop=True)\n",
        "df_cafes.head()"
      ],
      "execution_count": null,
      "outputs": []
    },
    {
      "cell_type": "code",
      "metadata": {
        "id": "Y8EO7BsXFW3j"
      },
      "source": [
        "is_in_seoul = df_cafes['시도명'] == '서울특별시'\n",
        "df_cafes_seoul = df_cafes[is_in_seoul]\n",
        "# df_cafes_seoul = df_cafes_seoul.drop(['위도', '경도'], axis = 1)\n",
        "\n",
        "df_cafes_seoul = df_cafes_seoul.reset_index(drop=True)\n",
        "df_cafes_seoul.head()"
      ],
      "execution_count": null,
      "outputs": []
    },
    {
      "cell_type": "code",
      "metadata": {
        "id": "C_CO0YJbvhWO"
      },
      "source": [
        "is_starbucks = df_cafes['상호명'].str.contains('스타벅스')\n",
        "is_starbucks_seoul = df_cafes_seoul['상호명'].str.contains('스타벅스')\n",
        "\n",
        "is_twosome = df_cafes['상호명'].str.contains('투썸')\n",
        "is_twosome_seoul = df_cafes_seoul['상호명'].str.contains('투썸')\n",
        "\n",
        "is_ediya = df_cafes['상호명'].str.contains('이디야')\n",
        "is_ediya_seoul = df_cafes_seoul['상호명'].str.contains('이디야')\n",
        "\n",
        "is_bbaek = df_cafes['상호명'].str.contains('빽다방')\n",
        "is_bbaek_seoul = df_cafes_seoul['상호명'].str.contains('빽다방')\n",
        "\n",
        "is_coffeebean = df_cafes['상호명'].str.contains('커피빈')\n",
        "is_coffeebean_seoul = df_cafes_seoul['상호명'].str.contains('커피빈')"
      ],
      "execution_count": 62,
      "outputs": []
    },
    {
      "cell_type": "code",
      "metadata": {
        "id": "LKZOeFZWx5XS"
      },
      "source": [
        "def reset_index(df):\n",
        "  df = df.reset_index(drop=True)\n",
        "  return df"
      ],
      "execution_count": 63,
      "outputs": []
    },
    {
      "cell_type": "code",
      "metadata": {
        "id": "NdQrEYwg4oLe"
      },
      "source": [
        "# 스타벅스\n",
        "df_starbucks = reset_index(df_cafes[is_starbucks])\n",
        "df_starbucks_seoul = df_cafes_seoul[is_starbucks_seoul]\n",
        "\n",
        "# 투썸플레이스\n",
        "df_twosome = reset_index(df_cafes[is_twosome])\n",
        "df_twosome_seoul = df_cafes_seoul[is_twosome_seoul]\n",
        "\n",
        "# 이디야\n",
        "df_ediya = reset_index(df_cafes[is_ediya])\n",
        "df_ediya_seoul = df_cafes_seoul[is_ediya_seoul]\n",
        "\n",
        "# 빽다방\n",
        "df_bbaek = reset_index(df_cafes[is_bbaek])\n",
        "df_bbaek_seoul = df_cafes_seoul[is_bbaek_seoul]\n",
        "\n",
        "# 커피빈\n",
        "df_coffeebean = reset_index(df_cafes[is_coffeebean])\n",
        "df_coffeebean_seoul = df_cafes_seoul[is_coffeebean_seoul]"
      ],
      "execution_count": 64,
      "outputs": []
    },
    {
      "cell_type": "code",
      "metadata": {
        "id": "DIx_hwEv9irs"
      },
      "source": [
        "total = len(df_cafes)\n",
        "\n",
        "s = len(df_starbucks)\n",
        "t = len(df_twosome)\n",
        "e = len(df_ediya)\n",
        "b = len(df_bbaek)\n",
        "c = len(df_coffeebean)\n",
        "\n",
        "s_p = s*100 / total\n",
        "t_p = t*100 / total\n",
        "e_p = e*100 / total\n",
        "b_p = b*100 / total\n",
        "c_p = c*100 / total\n",
        "\n",
        "p = s_p + t_p + e_p + b_p + c_p"
      ],
      "execution_count": 79,
      "outputs": []
    },
    {
      "cell_type": "code",
      "metadata": {
        "colab": {
          "base_uri": "https://localhost:8080/"
        },
        "id": "CSLPbB_tAh66",
        "outputId": "6b9cf930-4853-401e-a028-a787b7c710c1"
      },
      "source": [
        "print('***** 전국 카페 중 5대 브랜드 비율 *****\\n')\n",
        "print('1. 스타벅스 :', round(s_p,3) ,'%')\n",
        "print('2. 투썸플레이스 :', round(t_p,3) ,'%')\n",
        "print('3. 이디야 :', round(e_p,3) ,'%')\n",
        "print('4. 빽다방 :', round(b_p,3) ,'%')\n",
        "print('5. 커피빈 :', round(c_p,3) ,'%')\n",
        "print('6. 5대 브랜드의 합 :', round(p,3) ,'%')"
      ],
      "execution_count": 81,
      "outputs": [
        {
          "output_type": "stream",
          "text": [
            "***** 전국 카페 중 5대 브랜드 비율 *****\n",
            "\n",
            "1. 스타벅스 : 1.419 %\n",
            "2. 투썸플레이스 : 1.003 %\n",
            "3. 이디야 : 1.968 %\n",
            "4. 빽다방 : 0.499 %\n",
            "5. 커피빈 : 0.285 %\n",
            "6. 5대 브랜드의 합 : 5.174 %\n"
          ],
          "name": "stdout"
        }
      ]
    },
    {
      "cell_type": "code",
      "metadata": {
        "id": "CvoZrvEkE9XL"
      },
      "source": [
        "total_seoul = len(df_cafes_seoul)\n",
        "\n",
        "s = len(df_starbucks)\n",
        "t = len(df_twosome)\n",
        "e = len(df_ediya)\n",
        "b = len(df_bbaek)\n",
        "c = len(df_coffeebean)\n",
        "\n",
        "s_p_s = s*100 / total_seoul\n",
        "t_p_s = t*100 / total_seoul\n",
        "e_p_s = e*100 / total_seoul\n",
        "b_p_s = b*100 / total_seoul\n",
        "c_p_s = c*100 / total_seoul\n",
        "\n",
        "p_s = s_p_s + t_p_s + e_p_s + b_p_s + c_p_s"
      ],
      "execution_count": 87,
      "outputs": []
    },
    {
      "cell_type": "code",
      "metadata": {
        "colab": {
          "base_uri": "https://localhost:8080/"
        },
        "id": "Fa-mz3hQFdUV",
        "outputId": "3bd50898-f2b7-4d57-9b3f-3b6cbf82cd0e"
      },
      "source": [
        "print('***** 서울 카페 중 5대 브랜드 비율 *****\\n')\n",
        "print('1. 스타벅스 :', round(s_p_s,3) ,'%')\n",
        "print('2. 투썸플레이스 :', round(t_p_s,3) ,'%')\n",
        "print('3. 이디야 :', round(e_p_s,3) ,'%')\n",
        "print('4. 빽다방 :', round(b_p_s,3) ,'%')\n",
        "print('5. 커피빈 :', round(c_p_s,3) ,'%')\n",
        "print('6. 5대 브랜드의 합 :', round(p_s,3) ,'%')"
      ],
      "execution_count": 84,
      "outputs": [
        {
          "output_type": "stream",
          "text": [
            "***** 서울 카페 중 5대 브랜드 비율 *****\n",
            "\n",
            "1. 스타벅스 : 7.253 %\n",
            "2. 투썸플레이스 : 5.131 %\n",
            "3. 이디야 : 10.063 %\n",
            "4. 빽다방 : 2.55 %\n",
            "5. 커피빈 : 1.457 %\n",
            "6. 5대 브랜드의 합 : 26.454 %\n"
          ],
          "name": "stdout"
        }
      ]
    }
  ]
}