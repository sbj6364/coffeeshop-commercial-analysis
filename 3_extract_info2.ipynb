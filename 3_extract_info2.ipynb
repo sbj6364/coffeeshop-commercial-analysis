{
  "nbformat": 4,
  "nbformat_minor": 0,
  "metadata": {
    "colab": {
      "name": "3_extract_info2.ipynb",
      "provenance": [],
      "toc_visible": true,
      "mount_file_id": "1WlNS74vtrKUbB3i9e_2kWEQJJ_-A5M7W",
      "authorship_tag": "ABX9TyPOdFNkU0zov0zXaosOT97/",
      "include_colab_link": true
    },
    "kernelspec": {
      "name": "python3",
      "display_name": "Python 3"
    },
    "language_info": {
      "name": "python"
    }
  },
  "cells": [
    {
      "cell_type": "markdown",
      "metadata": {
        "id": "view-in-github",
        "colab_type": "text"
      },
      "source": [
        "<a href=\"https://colab.research.google.com/github/sbj6364/coffeeshop-commercial-analysis/blob/main/3_extract_info2.ipynb\" target=\"_parent\"><img src=\"https://colab.research.google.com/assets/colab-badge.svg\" alt=\"Open In Colab\"/></a>"
      ]
    },
    {
      "cell_type": "markdown",
      "metadata": {
        "id": "AkeUs1PpOS6x"
      },
      "source": [
        "## 3번 : 원하는 정보 추출하기 (2)\n",
        "\n",
        "우리는 이제 전국에 있는 소상공인 상호중에 커피점/카페에 해당하는 데이터를 얻었습니다.\n",
        "\n",
        "이 데이터들 중에서 서울에 있는 커피전문점들에 대한 정보만 떼어내서 알아보고 싶습니다.\n",
        "\n",
        "서울 지역에 있는 커피전문점만 추출해서 새로운 DataFrame인 `df_cafes_seoul`에 저장하는 코드를 작성하세요."
      ]
    },
    {
      "cell_type": "code",
      "metadata": {
        "id": "N9A9JYXNOJO0"
      },
      "source": [
        "import pandas as pd\n",
        "import numpy as np"
      ],
      "execution_count": 1,
      "outputs": []
    },
    {
      "cell_type": "code",
      "metadata": {
        "id": "_mbg0GPoGcYD"
      },
      "source": [
        "!unzip '/content/drive/MyDrive/coffeeshop-analysis/소상공인시장진흥공단_상가(상권)정보_20201231.zip'"
      ],
      "execution_count": null,
      "outputs": []
    },
    {
      "cell_type": "code",
      "metadata": {
        "id": "1clvRpu0PiQK"
      },
      "source": [
        "d1 = pd.read_csv('/content/소상공인시장진흥공단_상가(상권)정보_강원_202012.csv', sep='|')\n",
        "d2 = pd.read_csv('/content/소상공인시장진흥공단_상가(상권)정보_경기_202012.csv', sep='|')\n",
        "d3 = pd.read_csv('/content/소상공인시장진흥공단_상가(상권)정보_경남_202012.csv', sep='|')\n",
        "d4 = pd.read_csv('/content/소상공인시장진흥공단_상가(상권)정보_경북_202012.csv', sep='|')\n",
        "d5 = pd.read_csv('/content/소상공인시장진흥공단_상가(상권)정보_광주_202012.csv', sep='|')\n",
        "d6 = pd.read_csv('/content/소상공인시장진흥공단_상가(상권)정보_대구_202012.csv', sep='|')\n",
        "d7 = pd.read_csv('/content/소상공인시장진흥공단_상가(상권)정보_대전_202012.csv', sep='|')\n",
        "d8 = pd.read_csv('/content/소상공인시장진흥공단_상가(상권)정보_부산_202012.csv', sep='|')\n",
        "d9 = pd.read_csv('/content/소상공인시장진흥공단_상가(상권)정보_서울_202012.csv', sep='|')\n",
        "d10 = pd.read_csv('/content/소상공인시장진흥공단_상가(상권)정보_세종_202012.csv', sep='|')\n",
        "d11 = pd.read_csv('/content/소상공인시장진흥공단_상가(상권)정보_울산_202012.csv', sep='|')\n",
        "d12 = pd.read_csv('/content/소상공인시장진흥공단_상가(상권)정보_인천_202012.csv', sep='|')\n",
        "d13 = pd.read_csv('/content/소상공인시장진흥공단_상가(상권)정보_전남_202012.csv', sep='|')\n",
        "d14 = pd.read_csv('/content/소상공인시장진흥공단_상가(상권)정보_전북_202012.csv', sep='|')\n",
        "d15 = pd.read_csv('/content/소상공인시장진흥공단_상가(상권)정보_제주_202012.csv', sep='|')\n",
        "d16 = pd.read_csv('/content/소상공인시장진흥공단_상가(상권)정보_충남_202012.csv', sep='|')\n",
        "d17 = pd.read_csv('/content/소상공인시장진흥공단_상가(상권)정보_충북_202012.csv', sep='|')"
      ],
      "execution_count": null,
      "outputs": []
    },
    {
      "cell_type": "code",
      "metadata": {
        "id": "ClnufDUdIwZ2"
      },
      "source": [
        "df = pd.DataFrame(d1)\n",
        "df = df.append(pd.DataFrame(d2))\n",
        "df = df.append(pd.DataFrame(d3))\n",
        "df = df.append(pd.DataFrame(d4))\n",
        "df = df.append(pd.DataFrame(d5))\n",
        "df = df.append(pd.DataFrame(d6))\n",
        "df = df.append(pd.DataFrame(d7))\n",
        "df = df.append(pd.DataFrame(d8))\n",
        "df = df.append(pd.DataFrame(d9))\n",
        "df = df.append(pd.DataFrame(d10))\n",
        "df = df.append(pd.DataFrame(d11))\n",
        "df = df.append(pd.DataFrame(d12))\n",
        "df = df.append(pd.DataFrame(d13))\n",
        "df = df.append(pd.DataFrame(d14))\n",
        "df = df.append(pd.DataFrame(d15))\n",
        "df = df.append(pd.DataFrame(d16))\n",
        "df = df.append(pd.DataFrame(d17))"
      ],
      "execution_count": 17,
      "outputs": []
    },
    {
      "cell_type": "code",
      "metadata": {
        "colab": {
          "base_uri": "https://localhost:8080/",
          "height": 198
        },
        "id": "FzAKgK99n3-G",
        "outputId": "24274eca-5929-4a46-bc10-a9628a39d60b"
      },
      "source": [
        "is_cafe = df['상권업종중분류명'] == '커피점/카페'\n",
        "df_cafes = df[is_cafe]\n",
        "df_cafes = df_cafes[['상호명','지점명',\n",
        "       '상권업종대분류명', '상권업종중분류명',\n",
        "       '시도명', '시군구명', '행정동명',\n",
        "       '위도', '경도']]\n",
        "       \n",
        "df_cafes = df_cafes.reset_index(drop=True)\n",
        "df_cafes.head()"
      ],
      "execution_count": 23,
      "outputs": [
        {
          "output_type": "execute_result",
          "data": {
            "text/html": [
              "<div>\n",
              "<style scoped>\n",
              "    .dataframe tbody tr th:only-of-type {\n",
              "        vertical-align: middle;\n",
              "    }\n",
              "\n",
              "    .dataframe tbody tr th {\n",
              "        vertical-align: top;\n",
              "    }\n",
              "\n",
              "    .dataframe thead th {\n",
              "        text-align: right;\n",
              "    }\n",
              "</style>\n",
              "<table border=\"1\" class=\"dataframe\">\n",
              "  <thead>\n",
              "    <tr style=\"text-align: right;\">\n",
              "      <th></th>\n",
              "      <th>상호명</th>\n",
              "      <th>지점명</th>\n",
              "      <th>상권업종대분류명</th>\n",
              "      <th>상권업종중분류명</th>\n",
              "      <th>시도명</th>\n",
              "      <th>시군구명</th>\n",
              "      <th>행정동명</th>\n",
              "      <th>위도</th>\n",
              "      <th>경도</th>\n",
              "    </tr>\n",
              "  </thead>\n",
              "  <tbody>\n",
              "    <tr>\n",
              "      <th>0</th>\n",
              "      <td>키즈까페아이사랑</td>\n",
              "      <td>NaN</td>\n",
              "      <td>음식</td>\n",
              "      <td>커피점/카페</td>\n",
              "      <td>강원도</td>\n",
              "      <td>강릉시</td>\n",
              "      <td>성덕동</td>\n",
              "      <td>37.759315</td>\n",
              "      <td>128.919456</td>\n",
              "    </tr>\n",
              "    <tr>\n",
              "      <th>1</th>\n",
              "      <td>카페마실</td>\n",
              "      <td>NaN</td>\n",
              "      <td>음식</td>\n",
              "      <td>커피점/카페</td>\n",
              "      <td>강원도</td>\n",
              "      <td>원주시</td>\n",
              "      <td>단계동</td>\n",
              "      <td>37.349772</td>\n",
              "      <td>127.930297</td>\n",
              "    </tr>\n",
              "    <tr>\n",
              "      <th>2</th>\n",
              "      <td>힐링</td>\n",
              "      <td>NaN</td>\n",
              "      <td>음식</td>\n",
              "      <td>커피점/카페</td>\n",
              "      <td>강원도</td>\n",
              "      <td>원주시</td>\n",
              "      <td>단구동</td>\n",
              "      <td>37.319958</td>\n",
              "      <td>127.958442</td>\n",
              "    </tr>\n",
              "    <tr>\n",
              "      <th>3</th>\n",
              "      <td>드롭탑</td>\n",
              "      <td>속초엑스포점</td>\n",
              "      <td>음식</td>\n",
              "      <td>커피점/카페</td>\n",
              "      <td>강원도</td>\n",
              "      <td>속초시</td>\n",
              "      <td>조양동</td>\n",
              "      <td>38.191024</td>\n",
              "      <td>128.586322</td>\n",
              "    </tr>\n",
              "    <tr>\n",
              "      <th>4</th>\n",
              "      <td>SHIMS</td>\n",
              "      <td>NaN</td>\n",
              "      <td>음식</td>\n",
              "      <td>커피점/카페</td>\n",
              "      <td>강원도</td>\n",
              "      <td>원주시</td>\n",
              "      <td>행구동</td>\n",
              "      <td>37.344340</td>\n",
              "      <td>128.008146</td>\n",
              "    </tr>\n",
              "  </tbody>\n",
              "</table>\n",
              "</div>"
            ],
            "text/plain": [
              "        상호명     지점명 상권업종대분류명 상권업종중분류명  시도명 시군구명 행정동명         위도          경도\n",
              "0  키즈까페아이사랑     NaN       음식   커피점/카페  강원도  강릉시  성덕동  37.759315  128.919456\n",
              "1      카페마실     NaN       음식   커피점/카페  강원도  원주시  단계동  37.349772  127.930297\n",
              "2        힐링     NaN       음식   커피점/카페  강원도  원주시  단구동  37.319958  127.958442\n",
              "3       드롭탑  속초엑스포점       음식   커피점/카페  강원도  속초시  조양동  38.191024  128.586322\n",
              "4     SHIMS     NaN       음식   커피점/카페  강원도  원주시  행구동  37.344340  128.008146"
            ]
          },
          "metadata": {
            "tags": []
          },
          "execution_count": 23
        }
      ]
    },
    {
      "cell_type": "code",
      "metadata": {
        "colab": {
          "base_uri": "https://localhost:8080/",
          "height": 198
        },
        "id": "Y8EO7BsXFW3j",
        "outputId": "e6e4f37c-cb0f-45d7-9f78-ac08e5baa461"
      },
      "source": [
        "is_in_seoul = df_cafes['시도명'] == '서울특별시'\n",
        "df_cafes_seoul = df_cafes[is_in_seoul]\n",
        "df_cafes_seoul = df_cafes_seoul.drop(['위도', '경도'], axis = 1)\n",
        "\n",
        "df_cafes_seoul = df_cafes_seoul.reset_index(drop=True)\n",
        "df_cafes_seoul.head()"
      ],
      "execution_count": 25,
      "outputs": [
        {
          "output_type": "execute_result",
          "data": {
            "text/html": [
              "<div>\n",
              "<style scoped>\n",
              "    .dataframe tbody tr th:only-of-type {\n",
              "        vertical-align: middle;\n",
              "    }\n",
              "\n",
              "    .dataframe tbody tr th {\n",
              "        vertical-align: top;\n",
              "    }\n",
              "\n",
              "    .dataframe thead th {\n",
              "        text-align: right;\n",
              "    }\n",
              "</style>\n",
              "<table border=\"1\" class=\"dataframe\">\n",
              "  <thead>\n",
              "    <tr style=\"text-align: right;\">\n",
              "      <th></th>\n",
              "      <th>상호명</th>\n",
              "      <th>지점명</th>\n",
              "      <th>상권업종대분류명</th>\n",
              "      <th>상권업종중분류명</th>\n",
              "      <th>시도명</th>\n",
              "      <th>시군구명</th>\n",
              "      <th>행정동명</th>\n",
              "    </tr>\n",
              "  </thead>\n",
              "  <tbody>\n",
              "    <tr>\n",
              "      <th>0</th>\n",
              "      <td>커피빈</td>\n",
              "      <td>코리아대학로대명거리점</td>\n",
              "      <td>음식</td>\n",
              "      <td>커피점/카페</td>\n",
              "      <td>서울특별시</td>\n",
              "      <td>종로구</td>\n",
              "      <td>혜화동</td>\n",
              "    </tr>\n",
              "    <tr>\n",
              "      <th>1</th>\n",
              "      <td>요거프레소</td>\n",
              "      <td>쌍문점</td>\n",
              "      <td>음식</td>\n",
              "      <td>커피점/카페</td>\n",
              "      <td>서울특별시</td>\n",
              "      <td>도봉구</td>\n",
              "      <td>쌍문2동</td>\n",
              "    </tr>\n",
              "    <tr>\n",
              "      <th>2</th>\n",
              "      <td>406번째스토브</td>\n",
              "      <td>NaN</td>\n",
              "      <td>음식</td>\n",
              "      <td>커피점/카페</td>\n",
              "      <td>서울특별시</td>\n",
              "      <td>양천구</td>\n",
              "      <td>목1동</td>\n",
              "    </tr>\n",
              "    <tr>\n",
              "      <th>3</th>\n",
              "      <td>로얄커피숍</td>\n",
              "      <td>NaN</td>\n",
              "      <td>음식</td>\n",
              "      <td>커피점/카페</td>\n",
              "      <td>서울특별시</td>\n",
              "      <td>강동구</td>\n",
              "      <td>성내2동</td>\n",
              "    </tr>\n",
              "    <tr>\n",
              "      <th>4</th>\n",
              "      <td>빈트리망원점</td>\n",
              "      <td>망원점</td>\n",
              "      <td>음식</td>\n",
              "      <td>커피점/카페</td>\n",
              "      <td>서울특별시</td>\n",
              "      <td>마포구</td>\n",
              "      <td>망원1동</td>\n",
              "    </tr>\n",
              "  </tbody>\n",
              "</table>\n",
              "</div>"
            ],
            "text/plain": [
              "        상호명          지점명 상권업종대분류명 상권업종중분류명    시도명 시군구명  행정동명\n",
              "0       커피빈  코리아대학로대명거리점       음식   커피점/카페  서울특별시  종로구   혜화동\n",
              "1     요거프레소          쌍문점       음식   커피점/카페  서울특별시  도봉구  쌍문2동\n",
              "2  406번째스토브          NaN       음식   커피점/카페  서울특별시  양천구   목1동\n",
              "3     로얄커피숍          NaN       음식   커피점/카페  서울특별시  강동구  성내2동\n",
              "4    빈트리망원점          망원점       음식   커피점/카페  서울특별시  마포구  망원1동"
            ]
          },
          "metadata": {
            "tags": []
          },
          "execution_count": 25
        }
      ]
    }
  ]
}